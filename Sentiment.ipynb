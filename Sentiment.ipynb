{
  "nbformat": 4,
  "nbformat_minor": 0,
  "metadata": {
    "colab": {
      "name": "Untitled11.ipynb",
      "provenance": []
    },
    "kernelspec": {
      "name": "python3",
      "display_name": "Python 3"
    }
  },
  "cells": [
    {
      "cell_type": "code",
      "metadata": {
        "id": "Lx9pHce7WZFx",
        "colab_type": "code",
        "colab": {
          "base_uri": "https://localhost:8080/",
          "height": 124
        },
        "outputId": "33c0044c-364d-4b7d-9f6c-47e2c638b4e6"
      },
      "source": [
        "from google.colab import drive\n",
        "drive.mount('/content/drive')"
      ],
      "execution_count": 1,
      "outputs": [
        {
          "output_type": "stream",
          "text": [
            "Go to this URL in a browser: https://accounts.google.com/o/oauth2/auth?client_id=947318989803-6bn6qk8qdgf4n4g3pfee6491hc0brc4i.apps.googleusercontent.com&redirect_uri=urn%3aietf%3awg%3aoauth%3a2.0%3aoob&response_type=code&scope=email%20https%3a%2f%2fwww.googleapis.com%2fauth%2fdocs.test%20https%3a%2f%2fwww.googleapis.com%2fauth%2fdrive%20https%3a%2f%2fwww.googleapis.com%2fauth%2fdrive.photos.readonly%20https%3a%2f%2fwww.googleapis.com%2fauth%2fpeopleapi.readonly\n",
            "\n",
            "Enter your authorization code:\n",
            "··········\n",
            "Mounted at /content/drive\n"
          ],
          "name": "stdout"
        }
      ]
    },
    {
      "cell_type": "code",
      "metadata": {
        "id": "7o1js-LiWsR3",
        "colab_type": "code",
        "colab": {
          "base_uri": "https://localhost:8080/",
          "height": 415
        },
        "outputId": "78a2999a-2475-453f-b8fd-a19056124cd0"
      },
      "source": [
        "import pandas as pd\n",
        "import numpy as np\n",
        "\n",
        "game = pd.read_csv('/content/drive/My Drive/Colab Notebooks/data/review_game.csv')\n",
        "game\n"
      ],
      "execution_count": 2,
      "outputs": [
        {
          "output_type": "execute_result",
          "data": {
            "text/html": [
              "<div>\n",
              "<style scoped>\n",
              "    .dataframe tbody tr th:only-of-type {\n",
              "        vertical-align: middle;\n",
              "    }\n",
              "\n",
              "    .dataframe tbody tr th {\n",
              "        vertical-align: top;\n",
              "    }\n",
              "\n",
              "    .dataframe thead th {\n",
              "        text-align: right;\n",
              "    }\n",
              "</style>\n",
              "<table border=\"1\" class=\"dataframe\">\n",
              "  <thead>\n",
              "    <tr style=\"text-align: right;\">\n",
              "      <th></th>\n",
              "      <th>Unnamed: 0</th>\n",
              "      <th>name</th>\n",
              "      <th>content</th>\n",
              "      <th>reconmended</th>\n",
              "      <th>posted</th>\n",
              "    </tr>\n",
              "  </thead>\n",
              "  <tbody>\n",
              "    <tr>\n",
              "      <th>0</th>\n",
              "      <td>1</td>\n",
              "      <td>Cheating Death</td>\n",
              "      <td>\\r\\nResident Evil that we deserve.\\r\\nCapcom. ...</td>\n",
              "      <td>Recommended</td>\n",
              "      <td>29 January, 2019</td>\n",
              "    </tr>\n",
              "    <tr>\n",
              "      <th>1</th>\n",
              "      <td>2</td>\n",
              "      <td>Kibblekaze</td>\n",
              "      <td>\\r\\nI am finally home again. Raccoon City. Now...</td>\n",
              "      <td>Recommended</td>\n",
              "      <td>24 January, 2019</td>\n",
              "    </tr>\n",
              "    <tr>\n",
              "      <th>2</th>\n",
              "      <td>3</td>\n",
              "      <td>AUD</td>\n",
              "      <td>\\r\\nProbably the best remake game I've ever pl...</td>\n",
              "      <td>Recommended</td>\n",
              "      <td>26 January, 2019</td>\n",
              "    </tr>\n",
              "    <tr>\n",
              "      <th>3</th>\n",
              "      <td>4</td>\n",
              "      <td>⛧ M†ropele ⛧</td>\n",
              "      <td>\\r\\nWhat a way to start off 2019 dude. My god....</td>\n",
              "      <td>Recommended</td>\n",
              "      <td>24 January, 2019</td>\n",
              "    </tr>\n",
              "    <tr>\n",
              "      <th>4</th>\n",
              "      <td>5</td>\n",
              "      <td>Chase</td>\n",
              "      <td>\\r\\nMy only regret playing this is now I want ...</td>\n",
              "      <td>Recommended</td>\n",
              "      <td>11 November, 2019</td>\n",
              "    </tr>\n",
              "    <tr>\n",
              "      <th>...</th>\n",
              "      <td>...</td>\n",
              "      <td>...</td>\n",
              "      <td>...</td>\n",
              "      <td>...</td>\n",
              "      <td>...</td>\n",
              "    </tr>\n",
              "    <tr>\n",
              "      <th>1765</th>\n",
              "      <td>1766</td>\n",
              "      <td>ʙ⌁¹¹⁰¹</td>\n",
              "      <td>\\r\\nbullet sponge zombie went down for the thi...</td>\n",
              "      <td>Not Recommended</td>\n",
              "      <td>January 27, 2019</td>\n",
              "    </tr>\n",
              "    <tr>\n",
              "      <th>1766</th>\n",
              "      <td>1767</td>\n",
              "      <td>vermilion</td>\n",
              "      <td>\\r\\nAn excellent game, a great remaking. You s...</td>\n",
              "      <td>Not Recommended</td>\n",
              "      <td>February 2, 2019</td>\n",
              "    </tr>\n",
              "    <tr>\n",
              "      <th>1767</th>\n",
              "      <td>1768</td>\n",
              "      <td>madvillain</td>\n",
              "      <td>\\r\\nThis game is like fun but it's story sucks...</td>\n",
              "      <td>Not Recommended</td>\n",
              "      <td>January 28, 2019</td>\n",
              "    </tr>\n",
              "    <tr>\n",
              "      <th>1768</th>\n",
              "      <td>1769</td>\n",
              "      <td>Titillating Bwefass</td>\n",
              "      <td>\\r\\nVery disappointed in this initally. The ga...</td>\n",
              "      <td>Not Recommended</td>\n",
              "      <td>January 28, 2019</td>\n",
              "    </tr>\n",
              "    <tr>\n",
              "      <th>1769</th>\n",
              "      <td>1770</td>\n",
              "      <td>Dedicated To Holy Rule</td>\n",
              "      <td>\\r\\nFinally passed this classic masterpiece wh...</td>\n",
              "      <td>Not Recommended</td>\n",
              "      <td>January 27, 2019</td>\n",
              "    </tr>\n",
              "  </tbody>\n",
              "</table>\n",
              "<p>1770 rows × 5 columns</p>\n",
              "</div>"
            ],
            "text/plain": [
              "      Unnamed: 0                    name  ...      reconmended              posted\n",
              "0              1          Cheating Death  ...      Recommended    29 January, 2019\n",
              "1              2              Kibblekaze  ...      Recommended    24 January, 2019\n",
              "2              3                     AUD  ...      Recommended    26 January, 2019\n",
              "3              4            ⛧ M†ropele ⛧  ...      Recommended    24 January, 2019\n",
              "4              5                   Chase  ...      Recommended   11 November, 2019\n",
              "...          ...                     ...  ...              ...                 ...\n",
              "1765        1766                  ʙ⌁¹¹⁰¹  ...  Not Recommended    January 27, 2019\n",
              "1766        1767               vermilion  ...  Not Recommended    February 2, 2019\n",
              "1767        1768              madvillain  ...  Not Recommended    January 28, 2019\n",
              "1768        1769     Titillating Bwefass  ...  Not Recommended    January 28, 2019\n",
              "1769        1770  Dedicated To Holy Rule  ...  Not Recommended    January 27, 2019\n",
              "\n",
              "[1770 rows x 5 columns]"
            ]
          },
          "metadata": {
            "tags": []
          },
          "execution_count": 2
        }
      ]
    },
    {
      "cell_type": "code",
      "metadata": {
        "id": "wO9vMNaX5f2y",
        "colab_type": "code",
        "colab": {
          "base_uri": "https://localhost:8080/",
          "height": 415
        },
        "outputId": "555facd7-95a8-4442-a366-bbbe93383109"
      },
      "source": [
        "import re\n",
        "def preprocessor(text):\n",
        "    text = re.sub('<[^>]*>', '', text)\n",
        "    emoticons = re.findall('(?::|;|=)(?:-)?(?:\\)|\\(|D|P)',\n",
        "                           text)\n",
        "    text = (re.sub('[\\W]+', ' ', text.lower()) +\n",
        "            ' '.join(emoticons).replace('-', ''))\n",
        "    return text\n",
        "\n",
        "\n",
        "game['content'] = game['content'].apply(preprocessor)\n",
        "game"
      ],
      "execution_count": 3,
      "outputs": [
        {
          "output_type": "execute_result",
          "data": {
            "text/html": [
              "<div>\n",
              "<style scoped>\n",
              "    .dataframe tbody tr th:only-of-type {\n",
              "        vertical-align: middle;\n",
              "    }\n",
              "\n",
              "    .dataframe tbody tr th {\n",
              "        vertical-align: top;\n",
              "    }\n",
              "\n",
              "    .dataframe thead th {\n",
              "        text-align: right;\n",
              "    }\n",
              "</style>\n",
              "<table border=\"1\" class=\"dataframe\">\n",
              "  <thead>\n",
              "    <tr style=\"text-align: right;\">\n",
              "      <th></th>\n",
              "      <th>Unnamed: 0</th>\n",
              "      <th>name</th>\n",
              "      <th>content</th>\n",
              "      <th>reconmended</th>\n",
              "      <th>posted</th>\n",
              "    </tr>\n",
              "  </thead>\n",
              "  <tbody>\n",
              "    <tr>\n",
              "      <th>0</th>\n",
              "      <td>1</td>\n",
              "      <td>Cheating Death</td>\n",
              "      <td>resident evil that we deserve capcom i have o...</td>\n",
              "      <td>Recommended</td>\n",
              "      <td>29 January, 2019</td>\n",
              "    </tr>\n",
              "    <tr>\n",
              "      <th>1</th>\n",
              "      <td>2</td>\n",
              "      <td>Kibblekaze</td>\n",
              "      <td>i am finally home again raccoon city now they...</td>\n",
              "      <td>Recommended</td>\n",
              "      <td>24 January, 2019</td>\n",
              "    </tr>\n",
              "    <tr>\n",
              "      <th>2</th>\n",
              "      <td>3</td>\n",
              "      <td>AUD</td>\n",
              "      <td>probably the best remake game i ve ever played</td>\n",
              "      <td>Recommended</td>\n",
              "      <td>26 January, 2019</td>\n",
              "    </tr>\n",
              "    <tr>\n",
              "      <th>3</th>\n",
              "      <td>4</td>\n",
              "      <td>⛧ M†ropele ⛧</td>\n",
              "      <td>what a way to start off 2019 dude my god gorg...</td>\n",
              "      <td>Recommended</td>\n",
              "      <td>24 January, 2019</td>\n",
              "    </tr>\n",
              "    <tr>\n",
              "      <th>4</th>\n",
              "      <td>5</td>\n",
              "      <td>Chase</td>\n",
              "      <td>my only regret playing this is now i want res...</td>\n",
              "      <td>Recommended</td>\n",
              "      <td>11 November, 2019</td>\n",
              "    </tr>\n",
              "    <tr>\n",
              "      <th>...</th>\n",
              "      <td>...</td>\n",
              "      <td>...</td>\n",
              "      <td>...</td>\n",
              "      <td>...</td>\n",
              "      <td>...</td>\n",
              "    </tr>\n",
              "    <tr>\n",
              "      <th>1765</th>\n",
              "      <td>1766</td>\n",
              "      <td>ʙ⌁¹¹⁰¹</td>\n",
              "      <td>bullet sponge zombie went down for the third ...</td>\n",
              "      <td>Not Recommended</td>\n",
              "      <td>January 27, 2019</td>\n",
              "    </tr>\n",
              "    <tr>\n",
              "      <th>1766</th>\n",
              "      <td>1767</td>\n",
              "      <td>vermilion</td>\n",
              "      <td>an excellent game a great remaking you shall ...</td>\n",
              "      <td>Not Recommended</td>\n",
              "      <td>February 2, 2019</td>\n",
              "    </tr>\n",
              "    <tr>\n",
              "      <th>1767</th>\n",
              "      <td>1768</td>\n",
              "      <td>madvillain</td>\n",
              "      <td>this game is like fun but it s story sucks an...</td>\n",
              "      <td>Not Recommended</td>\n",
              "      <td>January 28, 2019</td>\n",
              "    </tr>\n",
              "    <tr>\n",
              "      <th>1768</th>\n",
              "      <td>1769</td>\n",
              "      <td>Titillating Bwefass</td>\n",
              "      <td>very disappointed in this initally the game l...</td>\n",
              "      <td>Not Recommended</td>\n",
              "      <td>January 28, 2019</td>\n",
              "    </tr>\n",
              "    <tr>\n",
              "      <th>1769</th>\n",
              "      <td>1770</td>\n",
              "      <td>Dedicated To Holy Rule</td>\n",
              "      <td>finally passed this classic masterpiece which...</td>\n",
              "      <td>Not Recommended</td>\n",
              "      <td>January 27, 2019</td>\n",
              "    </tr>\n",
              "  </tbody>\n",
              "</table>\n",
              "<p>1770 rows × 5 columns</p>\n",
              "</div>"
            ],
            "text/plain": [
              "      Unnamed: 0                    name  ...      reconmended              posted\n",
              "0              1          Cheating Death  ...      Recommended    29 January, 2019\n",
              "1              2              Kibblekaze  ...      Recommended    24 January, 2019\n",
              "2              3                     AUD  ...      Recommended    26 January, 2019\n",
              "3              4            ⛧ M†ropele ⛧  ...      Recommended    24 January, 2019\n",
              "4              5                   Chase  ...      Recommended   11 November, 2019\n",
              "...          ...                     ...  ...              ...                 ...\n",
              "1765        1766                  ʙ⌁¹¹⁰¹  ...  Not Recommended    January 27, 2019\n",
              "1766        1767               vermilion  ...  Not Recommended    February 2, 2019\n",
              "1767        1768              madvillain  ...  Not Recommended    January 28, 2019\n",
              "1768        1769     Titillating Bwefass  ...  Not Recommended    January 28, 2019\n",
              "1769        1770  Dedicated To Holy Rule  ...  Not Recommended    January 27, 2019\n",
              "\n",
              "[1770 rows x 5 columns]"
            ]
          },
          "metadata": {
            "tags": []
          },
          "execution_count": 3
        }
      ]
    },
    {
      "cell_type": "code",
      "metadata": {
        "id": "Dogp19LPP1GD",
        "colab_type": "code",
        "colab": {
          "base_uri": "https://localhost:8080/",
          "height": 104
        },
        "outputId": "1237c399-e6ff-44a7-9391-c664ba372502"
      },
      "source": [
        "from nltk.stem.porter import PorterStemmer\n",
        "\n",
        "porter = PorterStemmer()\n",
        "\n",
        "def tokenizer(text):\n",
        "    return text.split()\n",
        "\n",
        "\n",
        "def tokenizer_porter(text):\n",
        "    return [porter.stem(word) for word in text.split()]\n",
        "\n",
        "import nltk\n",
        "nltk.download('stopwords')\n",
        "\n",
        "from nltk.corpus import stopwords\n",
        "stop = stopwords.words('english')\n",
        "\n",
        "X = game.iloc[:, 2].values\n",
        "y = game.iloc[:,3].values\n",
        "\n",
        "\n",
        "from sklearn.model_selection import train_test_split\n",
        "\n",
        "X_train, X_test, y_train, y_test = train_test_split(X, y, test_size = 0.2,\n",
        "                                                    random_state = 0)\n",
        "unique, counts = np.unique(y, return_counts=True)\n",
        "print(dict(zip(unique, counts)))\n",
        "unique, counts = np.unique(y_train, return_counts=True)\n",
        "print(dict(zip(unique, counts)))\n",
        "unique, counts = np.unique(y_test, return_counts=True)\n",
        "print(dict(zip(unique, counts)))"
      ],
      "execution_count": 4,
      "outputs": [
        {
          "output_type": "stream",
          "text": [
            "[nltk_data] Downloading package stopwords to /root/nltk_data...\n",
            "[nltk_data]   Unzipping corpora/stopwords.zip.\n",
            "{'Not Recommended': 724, 'Recommended': 1046}\n",
            "{'Not Recommended': 584, 'Recommended': 832}\n",
            "{'Not Recommended': 140, 'Recommended': 214}\n"
          ],
          "name": "stdout"
        }
      ]
    },
    {
      "cell_type": "code",
      "metadata": {
        "id": "eiC9wKo2YPbN",
        "colab_type": "code",
        "colab": {
          "base_uri": "https://localhost:8080/",
          "height": 315
        },
        "outputId": "e31200ce-7a3d-4a63-8227-5f0bb61e226d"
      },
      "source": [
        "\n",
        "\n",
        "from sklearn.pipeline import Pipeline\n",
        "from sklearn.linear_model import LogisticRegression\n",
        "from sklearn.feature_extraction.text import TfidfVectorizer\n",
        "from sklearn.model_selection import GridSearchCV\n",
        "\n",
        "tfidf = TfidfVectorizer(strip_accents=None,\n",
        "                        lowercase=False,\n",
        "                        preprocessor=None)\n",
        "\n",
        "param_grid = [{'vect__ngram_range': [(1, 1)],\n",
        "               'vect__stop_words': [stop, None],\n",
        "               'vect__tokenizer': [tokenizer, tokenizer_porter],\n",
        "               'clf__penalty': ['l1', 'l2'],\n",
        "               'clf__C': [1.0, 10.0, 100.0]},\n",
        "              {'vect__ngram_range': [(1, 1)],\n",
        "               'vect__stop_words': [stop, None],\n",
        "               'vect__tokenizer': [tokenizer, tokenizer_porter],\n",
        "               'vect__use_idf':[False],\n",
        "               'vect__norm':[None],\n",
        "               'clf__penalty': ['l1', 'l2'],\n",
        "               'clf__C': [1.0, 10.0, 100.0]},\n",
        "              ]\n",
        "\n",
        "lr_tfidf = Pipeline([('vect', tfidf),\n",
        "                     ('clf', LogisticRegression(random_state=0))])\n",
        "\n",
        "gs_lr_tfidf = GridSearchCV(lr_tfidf, param_grid,\n",
        "                           scoring='accuracy',\n",
        "                           cv=5,\n",
        "                           verbose=1,\n",
        "                           n_jobs=-1)\n",
        "\n",
        "\n",
        "gs_lr_tfidf.fit(X_train, y_train)\n",
        "print('Best parameter set: %s ' % gs_lr_tfidf.best_params_)\n",
        "print('CV Accuracy: %.3f' % gs_lr_tfidf.best_score_)\n",
        "\n",
        "lr = gs_lr_tfidf.best_estimator_\n",
        "from sklearn.metrics import classification_report\n",
        "print(classification_report(y_test, lr.predict(X_test)))"
      ],
      "execution_count": 5,
      "outputs": [
        {
          "output_type": "stream",
          "text": [
            "Fitting 5 folds for each of 48 candidates, totalling 240 fits\n"
          ],
          "name": "stdout"
        },
        {
          "output_type": "stream",
          "text": [
            "[Parallel(n_jobs=-1)]: Using backend LokyBackend with 2 concurrent workers.\n",
            "[Parallel(n_jobs=-1)]: Done  46 tasks      | elapsed:   58.4s\n",
            "[Parallel(n_jobs=-1)]: Done 196 tasks      | elapsed:  4.3min\n",
            "[Parallel(n_jobs=-1)]: Done 240 out of 240 | elapsed:  5.4min finished\n"
          ],
          "name": "stderr"
        },
        {
          "output_type": "stream",
          "text": [
            "Best parameter set: {'clf__C': 100.0, 'clf__penalty': 'l2', 'vect__ngram_range': (1, 1), 'vect__stop_words': None, 'vect__tokenizer': <function tokenizer at 0x7fabc356d8c8>} \n",
            "CV Accuracy: 0.880\n",
            "                 precision    recall  f1-score   support\n",
            "\n",
            "Not Recommended       0.85      0.76      0.80       140\n",
            "    Recommended       0.85      0.91      0.88       214\n",
            "\n",
            "       accuracy                           0.85       354\n",
            "      macro avg       0.85      0.83      0.84       354\n",
            "   weighted avg       0.85      0.85      0.85       354\n",
            "\n"
          ],
          "name": "stdout"
        }
      ]
    },
    {
      "cell_type": "code",
      "metadata": {
        "id": "Twqe5W7vYZFT",
        "colab_type": "code",
        "colab": {
          "base_uri": "https://localhost:8080/",
          "height": 728
        },
        "outputId": "f6e62e92-d258-4968-f42c-8748080aef38"
      },
      "source": [
        "from sklearn.pipeline import Pipeline\n",
        "from sklearn.svm import SVC\n",
        "from sklearn.feature_extraction.text import TfidfVectorizer\n",
        "from sklearn.model_selection import GridSearchCV\n",
        "\n",
        "tfidf = TfidfVectorizer(strip_accents=None,\n",
        "                        lowercase=False,\n",
        "                        preprocessor=None)\n",
        "\n",
        "param_grid = [{'vect__ngram_range': [(1, 1)],\n",
        "               'vect__stop_words': [stop, None],\n",
        "               'vect__tokenizer': [tokenizer, tokenizer_porter],\n",
        "               'svc__kernel': ['liblinear', 'rbf', 'poly'],\n",
        "               'svc__C': [0.1, 1.0, 10.0, 100.0],\n",
        "               'svc__gamma': [0.0001, 0.001, 0.01, 0.1, 1.0]},\n",
        "              {'vect__ngram_range': [(1, 1)],\n",
        "               'vect__stop_words': [stop, None],\n",
        "               'vect__tokenizer': [tokenizer, tokenizer_porter],\n",
        "               'vect__use_idf':[False],\n",
        "               'vect__norm':[None],\n",
        "               'svc__kernel': ['liblinear', 'rbf', 'poly'],\n",
        "               'svc__C': [0.1, 1.0, 10.0, 100.0],\n",
        "               'svc__gamma': [0.0001, 0.001, 0.01, 0.1, 1.0]},\n",
        "              ]\n",
        "\n",
        "svc_tfidf = Pipeline([('vect', tfidf),\n",
        "                     ('svc', SVC(random_state=0))])\n",
        "\n",
        "gs_svc_tfidf = GridSearchCV(svc_tfidf, param_grid,\n",
        "                           scoring='accuracy',\n",
        "                           cv=5,\n",
        "                           verbose=1,\n",
        "                           n_jobs=-1)\n",
        "\n",
        "\n",
        "gs_svc_tfidf.fit(X_train, y_train)\n",
        "\n"
      ],
      "execution_count": 6,
      "outputs": [
        {
          "output_type": "stream",
          "text": [
            "Fitting 5 folds for each of 480 candidates, totalling 2400 fits\n"
          ],
          "name": "stdout"
        },
        {
          "output_type": "stream",
          "text": [
            "[Parallel(n_jobs=-1)]: Using backend LokyBackend with 2 concurrent workers.\n",
            "[Parallel(n_jobs=-1)]: Done  50 tasks      | elapsed:  1.3min\n",
            "[Parallel(n_jobs=-1)]: Done 200 tasks      | elapsed:  5.4min\n",
            "[Parallel(n_jobs=-1)]: Done 450 tasks      | elapsed: 12.4min\n",
            "[Parallel(n_jobs=-1)]: Done 800 tasks      | elapsed: 22.1min\n",
            "[Parallel(n_jobs=-1)]: Done 1250 tasks      | elapsed: 34.8min\n",
            "[Parallel(n_jobs=-1)]: Done 1800 tasks      | elapsed: 49.9min\n",
            "[Parallel(n_jobs=-1)]: Done 2400 out of 2400 | elapsed: 66.5min finished\n"
          ],
          "name": "stderr"
        },
        {
          "output_type": "execute_result",
          "data": {
            "text/plain": [
              "GridSearchCV(cv=5, error_score=nan,\n",
              "             estimator=Pipeline(memory=None,\n",
              "                                steps=[('vect',\n",
              "                                        TfidfVectorizer(analyzer='word',\n",
              "                                                        binary=False,\n",
              "                                                        decode_error='strict',\n",
              "                                                        dtype=<class 'numpy.float64'>,\n",
              "                                                        encoding='utf-8',\n",
              "                                                        input='content',\n",
              "                                                        lowercase=False,\n",
              "                                                        max_df=1.0,\n",
              "                                                        max_features=None,\n",
              "                                                        min_df=1,\n",
              "                                                        ngram_range=(1, 1),\n",
              "                                                        norm='l2',\n",
              "                                                        preprocessor=None,\n",
              "                                                        smooth_idf=True,\n",
              "                                                        stop_words=None,\n",
              "                                                        strip_acc...\n",
              "                                                \"you'll\", \"you'd\", 'your',\n",
              "                                                'yours', 'yourself',\n",
              "                                                'yourselves', 'he', 'him',\n",
              "                                                'his', 'himself', 'she',\n",
              "                                                \"she's\", 'her', 'hers',\n",
              "                                                'herself', 'it', \"it's\", 'its',\n",
              "                                                'itself', ...],\n",
              "                                               None],\n",
              "                          'vect__tokenizer': [<function tokenizer at 0x7fabc356d8c8>,\n",
              "                                              <function tokenizer_porter at 0x7fabc356dae8>],\n",
              "                          'vect__use_idf': [False]}],\n",
              "             pre_dispatch='2*n_jobs', refit=True, return_train_score=False,\n",
              "             scoring='accuracy', verbose=1)"
            ]
          },
          "metadata": {
            "tags": []
          },
          "execution_count": 6
        }
      ]
    },
    {
      "cell_type": "code",
      "metadata": {
        "id": "8Iz6nBpYjjj5",
        "colab_type": "code",
        "colab": {
          "base_uri": "https://localhost:8080/",
          "height": 228
        },
        "outputId": "d3764d3d-06fb-4019-a832-0f3ffcd70b21"
      },
      "source": [
        "print('Best parameter set: %s ' % gs_svc_tfidf.best_params_)\n",
        "print('CV Accuracy: %.3f' % gs_svc_tfidf.best_score_)\n",
        "\n",
        "svc = gs_svc_tfidf.best_estimator_\n",
        "from sklearn.metrics import classification_report\n",
        "print(classification_report(y_test, svc.predict(X_test)))"
      ],
      "execution_count": 7,
      "outputs": [
        {
          "output_type": "stream",
          "text": [
            "Best parameter set: {'svc__C': 10.0, 'svc__gamma': 1.0, 'svc__kernel': 'rbf', 'vect__ngram_range': (1, 1), 'vect__stop_words': None, 'vect__tokenizer': <function tokenizer_porter at 0x7fabc356dae8>} \n",
            "CV Accuracy: 0.880\n",
            "                 precision    recall  f1-score   support\n",
            "\n",
            "Not Recommended       0.85      0.81      0.83       140\n",
            "    Recommended       0.88      0.91      0.89       214\n",
            "\n",
            "       accuracy                           0.87       354\n",
            "      macro avg       0.87      0.86      0.86       354\n",
            "   weighted avg       0.87      0.87      0.87       354\n",
            "\n"
          ],
          "name": "stdout"
        }
      ]
    },
    {
      "cell_type": "code",
      "metadata": {
        "id": "Z366cUgiaX0Q",
        "colab_type": "code",
        "colab": {
          "base_uri": "https://localhost:8080/",
          "height": 846
        },
        "outputId": "d57632f6-7cb2-462e-97f7-40cc1a899aee"
      },
      "source": [
        "import seaborn as sns\n",
        "import matplotlib.pyplot as plt\n",
        "from sklearn.metrics import confusion_matrix\n",
        "cm_lr_test = confusion_matrix(y_test, lr.predict(X_test))\n",
        "cm_svc_test = confusion_matrix(y_test, svc.predict(X_test))\n",
        "cm_lr_train = confusion_matrix(y_train, lr.predict(X_train))\n",
        "cm_svc_train = confusion_matrix(y_train, svc.predict(X_train))\n",
        "\n",
        "f, (ax1, ax2) = plt.subplots(1, 2, figsize = (18, 6), sharey=True)\n",
        "g1 = sns.heatmap(cm_lr_test, annot = True, cmap = 'Blues', fmt = 'd', ax = ax1)\n",
        "g1.set_xlabel('Predicted label')\n",
        "g1.set_ylabel('Truth label')\n",
        "g1.set_title('Confusion metric of test set')\n",
        "\n",
        "g2 = sns.heatmap(cm_lr_train, annot = True, cmap = 'Blues', fmt = 'd', ax = ax2)\n",
        "g2.set_xlabel('Predicted label')\n",
        "g2.set_ylabel('Truth label')\n",
        "g2.set_title('Confusion metric of training set')\n",
        "plt.savefig('/content/drive/My Drive/Colab Notebooks/images/game_06.png', dpi=300)\n",
        "plt.show()\n",
        "\n",
        "f, (ax1, ax2) = plt.subplots(1, 2, figsize = (18, 6), sharey=True)\n",
        "g1 = sns.heatmap(cm_svc_test, annot = True, cmap = 'Blues', fmt = 'd', ax = ax1)\n",
        "g1.set_xlabel('Predicted label')\n",
        "g1.set_ylabel('Truth label')\n",
        "g1.set_title('Confusion metric of test set')\n",
        "\n",
        "g2 = sns.heatmap(cm_svc_train, annot = True, cmap = 'Blues', fmt = 'd', ax = ax2)\n",
        "g2.set_xlabel('Predicted label')\n",
        "g2.set_ylabel('Truth label')\n",
        "g2.set_title('Confusion metric of training set')\n",
        "plt.savefig('/content/drive/My Drive/Colab Notebooks/images/game_07.png', dpi=300)\n",
        "plt.show()"
      ],
      "execution_count": 8,
      "outputs": [
        {
          "output_type": "stream",
          "text": [
            "/usr/local/lib/python3.6/dist-packages/statsmodels/tools/_testing.py:19: FutureWarning: pandas.util.testing is deprecated. Use the functions in the public API at pandas.testing instead.\n",
            "  import pandas.util.testing as tm\n"
          ],
          "name": "stderr"
        },
        {
          "output_type": "display_data",
          "data": {
            "image/png": "[encoded data removed]",
            "text/plain": [
              "<Figure size 1296x432 with 4 Axes>"
            ]
          },
          "metadata": {
            "tags": [],
            "needs_background": "light"
          }
        },
        {
          "output_type": "display_data",
          "data": {
            "image/png": "[encoded data removed]",
            "text/plain": [
              "<Figure size 1296x432 with 4 Axes>"
            ]
          },
          "metadata": {
            "tags": [],
            "needs_background": "light"
          }
        }
      ]
    },
    {
      "cell_type": "code",
      "metadata": {
        "id": "2nJ9f8h40li8",
        "colab_type": "code",
        "colab": {
          "base_uri": "https://localhost:8080/",
          "height": 1000
        },
        "outputId": "61cc16c3-0487-4762-af50-7f3d229f0fe6"
      },
      "source": [
        "y_test"
      ],
      "execution_count": null,
      "outputs": [
        {
          "output_type": "execute_result",
          "data": {
            "text/plain": [
              "array(['Recommended', 'Recommended', 'Recommended', 'Recommended',\n",
              "       'Recommended', 'Recommended', 'Recommended', 'Recommended',\n",
              "       'Not Recommended', 'Recommended', 'Not Recommended',\n",
              "       'Not Recommended', 'Not Recommended', 'Not Recommended',\n",
              "       'Recommended', 'Not Recommended', 'Recommended', 'Recommended',\n",
              "       'Recommended', 'Not Recommended', 'Recommended', 'Not Recommended',\n",
              "       'Recommended', 'Recommended', 'Not Recommended', 'Recommended',\n",
              "       'Recommended', 'Recommended', 'Recommended', 'Recommended',\n",
              "       'Not Recommended', 'Recommended', 'Recommended', 'Recommended',\n",
              "       'Recommended', 'Recommended', 'Not Recommended', 'Not Recommended',\n",
              "       'Recommended', 'Not Recommended', 'Not Recommended',\n",
              "       'Not Recommended', 'Not Recommended', 'Not Recommended',\n",
              "       'Recommended', 'Recommended', 'Recommended', 'Recommended',\n",
              "       'Recommended', 'Recommended', 'Recommended', 'Not Recommended',\n",
              "       'Not Recommended', 'Not Recommended', 'Recommended', 'Recommended',\n",
              "       'Not Recommended', 'Not Recommended', 'Recommended', 'Recommended',\n",
              "       'Not Recommended', 'Not Recommended', 'Not Recommended',\n",
              "       'Not Recommended', 'Recommended', 'Recommended', 'Recommended',\n",
              "       'Recommended', 'Recommended', 'Not Recommended', 'Recommended',\n",
              "       'Not Recommended', 'Recommended', 'Recommended', 'Recommended',\n",
              "       'Not Recommended', 'Recommended', 'Recommended', 'Recommended',\n",
              "       'Recommended', 'Not Recommended', 'Not Recommended', 'Recommended',\n",
              "       'Recommended', 'Not Recommended', 'Recommended', 'Recommended',\n",
              "       'Recommended', 'Not Recommended', 'Recommended', 'Not Recommended',\n",
              "       'Recommended', 'Not Recommended', 'Recommended', 'Recommended',\n",
              "       'Recommended', 'Not Recommended', 'Recommended', 'Not Recommended',\n",
              "       'Recommended', 'Not Recommended', 'Recommended', 'Not Recommended',\n",
              "       'Recommended', 'Recommended', 'Recommended', 'Recommended',\n",
              "       'Recommended', 'Recommended', 'Not Recommended', 'Recommended',\n",
              "       'Recommended', 'Not Recommended', 'Recommended', 'Recommended',\n",
              "       'Not Recommended', 'Recommended', 'Not Recommended', 'Recommended',\n",
              "       'Not Recommended', 'Not Recommended', 'Recommended', 'Recommended',\n",
              "       'Not Recommended', 'Not Recommended', 'Not Recommended',\n",
              "       'Recommended', 'Not Recommended', 'Not Recommended', 'Recommended',\n",
              "       'Recommended', 'Not Recommended', 'Recommended', 'Recommended',\n",
              "       'Not Recommended', 'Not Recommended', 'Recommended',\n",
              "       'Not Recommended', 'Not Recommended', 'Recommended', 'Recommended',\n",
              "       'Recommended', 'Not Recommended', 'Not Recommended',\n",
              "       'Not Recommended', 'Recommended', 'Not Recommended', 'Recommended',\n",
              "       'Recommended', 'Not Recommended', 'Not Recommended', 'Recommended',\n",
              "       'Recommended', 'Not Recommended', 'Recommended', 'Not Recommended',\n",
              "       'Recommended', 'Recommended', 'Not Recommended', 'Not Recommended',\n",
              "       'Not Recommended', 'Not Recommended', 'Not Recommended',\n",
              "       'Not Recommended', 'Recommended', 'Not Recommended', 'Recommended',\n",
              "       'Not Recommended', 'Recommended', 'Recommended', 'Recommended',\n",
              "       'Recommended', 'Recommended', 'Not Recommended', 'Recommended',\n",
              "       'Not Recommended', 'Not Recommended', 'Not Recommended',\n",
              "       'Recommended', 'Not Recommended', 'Recommended', 'Recommended',\n",
              "       'Not Recommended', 'Recommended', 'Not Recommended',\n",
              "       'Not Recommended', 'Not Recommended', 'Not Recommended',\n",
              "       'Not Recommended', 'Recommended', 'Recommended', 'Recommended',\n",
              "       'Recommended', 'Recommended', 'Not Recommended', 'Recommended',\n",
              "       'Recommended', 'Not Recommended', 'Recommended', 'Not Recommended',\n",
              "       'Recommended', 'Recommended', 'Not Recommended', 'Not Recommended',\n",
              "       'Recommended', 'Not Recommended', 'Recommended', 'Not Recommended',\n",
              "       'Recommended', 'Not Recommended', 'Not Recommended', 'Recommended',\n",
              "       'Recommended', 'Recommended', 'Recommended', 'Not Recommended',\n",
              "       'Recommended', 'Not Recommended', 'Not Recommended',\n",
              "       'Not Recommended', 'Recommended', 'Recommended', 'Recommended',\n",
              "       'Not Recommended', 'Recommended', 'Recommended', 'Recommended',\n",
              "       'Recommended', 'Recommended', 'Not Recommended', 'Recommended',\n",
              "       'Recommended', 'Not Recommended', 'Recommended', 'Not Recommended',\n",
              "       'Not Recommended', 'Recommended', 'Not Recommended', 'Recommended',\n",
              "       'Recommended', 'Recommended', 'Not Recommended', 'Recommended',\n",
              "       'Recommended', 'Recommended', 'Not Recommended', 'Recommended',\n",
              "       'Recommended', 'Recommended', 'Recommended', 'Not Recommended',\n",
              "       'Recommended', 'Recommended', 'Recommended', 'Recommended',\n",
              "       'Not Recommended', 'Recommended', 'Not Recommended', 'Recommended',\n",
              "       'Not Recommended', 'Recommended', 'Not Recommended', 'Recommended',\n",
              "       'Recommended', 'Recommended', 'Recommended', 'Recommended',\n",
              "       'Not Recommended', 'Not Recommended', 'Recommended',\n",
              "       'Not Recommended', 'Not Recommended', 'Not Recommended',\n",
              "       'Recommended', 'Recommended', 'Not Recommended', 'Recommended',\n",
              "       'Recommended', 'Recommended', 'Recommended', 'Not Recommended',\n",
              "       'Recommended', 'Recommended', 'Not Recommended', 'Recommended',\n",
              "       'Recommended', 'Recommended', 'Not Recommended', 'Recommended',\n",
              "       'Recommended', 'Not Recommended', 'Recommended', 'Recommended',\n",
              "       'Recommended', 'Recommended', 'Recommended', 'Not Recommended',\n",
              "       'Not Recommended', 'Recommended', 'Recommended', 'Not Recommended',\n",
              "       'Recommended', 'Not Recommended', 'Recommended', 'Not Recommended',\n",
              "       'Not Recommended', 'Not Recommended', 'Recommended',\n",
              "       'Not Recommended', 'Not Recommended', 'Not Recommended',\n",
              "       'Recommended', 'Recommended', 'Recommended', 'Recommended',\n",
              "       'Not Recommended', 'Recommended', 'Recommended', 'Not Recommended',\n",
              "       'Not Recommended', 'Not Recommended', 'Recommended', 'Recommended',\n",
              "       'Recommended', 'Not Recommended', 'Not Recommended', 'Recommended',\n",
              "       'Not Recommended', 'Not Recommended', 'Recommended', 'Recommended',\n",
              "       'Recommended', 'Recommended', 'Not Recommended', 'Recommended',\n",
              "       'Recommended', 'Recommended', 'Not Recommended', 'Recommended',\n",
              "       'Recommended', 'Recommended', 'Recommended', 'Recommended',\n",
              "       'Recommended', 'Recommended', 'Not Recommended', 'Recommended',\n",
              "       'Not Recommended', 'Not Recommended', 'Not Recommended',\n",
              "       'Recommended', 'Not Recommended', 'Not Recommended',\n",
              "       'Not Recommended', 'Not Recommended', 'Not Recommended',\n",
              "       'Recommended', 'Recommended'], dtype=object)"
            ]
          },
          "metadata": {
            "tags": []
          },
          "execution_count": 13
        }
      ]
    },
    {
      "cell_type": "code",
      "metadata": {
        "id": "J9ObmSZu2Avn",
        "colab_type": "code",
        "colab": {
          "base_uri": "https://localhost:8080/",
          "height": 87
        },
        "outputId": "858246c8-02e8-4357-aec3-67fb19bbbe2e"
      },
      "source": [
        "print(svc.predict(['Good']))\n",
        "print(svc.predict(['you should not play this game']))\n",
        "print(svc.predict(['the fuck game']))\n",
        "print(lr.predict(['I hate game']))"
      ],
      "execution_count": 14,
      "outputs": [
        {
          "output_type": "stream",
          "text": [
            "['Recommended']\n",
            "['Not Recommended']\n",
            "['Not Recommended']\n",
            "['Not Recommended']\n"
          ],
          "name": "stdout"
        }
      ]
    }
  ]
}